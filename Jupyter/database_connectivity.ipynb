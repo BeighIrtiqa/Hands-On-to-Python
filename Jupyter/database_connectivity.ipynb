{
 "cells": [
  {
   "cell_type": "code",
   "execution_count": 38,
   "id": "c1a90b73",
   "metadata": {},
   "outputs": [],
   "source": [
    "#import libraries\n",
    "\n",
    "import mysql.connector\n",
    "from mysql.connector import Error"
   ]
  },
  {
   "cell_type": "code",
   "execution_count": 8,
   "id": "6539fe7a",
   "metadata": {},
   "outputs": [],
   "source": [
    "import pandas as pd"
   ]
  },
  {
   "cell_type": "code",
   "execution_count": 10,
   "id": "fe3af6dd",
   "metadata": {},
   "outputs": [
    {
     "name": "stdout",
     "output_type": "stream",
     "text": [
      "MySQL Database connection successful\n"
     ]
    }
   ],
   "source": [
    "def create_server_connection(host_name, user_name, user_password):\n",
    "    connection = None\n",
    "    try:\n",
    "        connection = mysql.connector.connect(\n",
    "        \thost = host_name,\n",
    "        \tuser = user_name,\n",
    "        \tpassword = user_password\n",
    "        )\n",
    "        print(\"MySQL Database connection successful\")\n",
    "    except Error as err:\n",
    "        print(f\"Error: '{err}'\")\n",
    "    return connection\n",
    "\n",
    "#Put our MySQL terminal password\n",
    "pw = \"irtiqa123\"\n",
    "\n",
    "#database name\n",
    "db = \"mysql_python\"\n",
    "connection = create_server_connection(\"localhost\", \"root\", pw)"
   ]
  },
  {
   "cell_type": "code",
   "execution_count": 14,
   "id": "cccf6e98",
   "metadata": {},
   "outputs": [
    {
     "name": "stdout",
     "output_type": "stream",
     "text": [
      "Database created successfully\n"
     ]
    }
   ],
   "source": [
    "#create mysql_python\n",
    "\n",
    "def create_database(connection, query):\n",
    "    cursor = connection.cursor()\n",
    "    try:\n",
    "        cursor.execute(query)\n",
    "        print(\"Database created successfully\")\n",
    "    except Error as err:\n",
    "        print(f\"Error: '{err}'\")\n",
    "create_database_query = \"Create database mysql_python\"\n",
    "create_database(connection, create_database_query)"
   ]
  },
  {
   "cell_type": "code",
   "execution_count": 16,
   "id": "99db72f3",
   "metadata": {},
   "outputs": [],
   "source": [
    "#connect to database\n",
    "\n",
    "def create_db_conn(host_name, user_name, user_password, db_name):\n",
    "    connection = None\n",
    "    try:\n",
    "        connection = mysql.connector.connect(\n",
    "        host = host_name,\n",
    "        user = user_name,\n",
    "        password = user_password,\n",
    "        database =  db_name)\n",
    "        print(\"MySQL database connection successfull\")\n",
    "    except Error as err:\n",
    "        print(f\"Error: '{err}'\")\n",
    "    return connection"
   ]
  },
  {
   "cell_type": "code",
   "execution_count": 17,
   "id": "d2254298",
   "metadata": {},
   "outputs": [],
   "source": [
    "#Execute sql queries\n",
    "\n",
    "def execute_query(connection, query):\n",
    "    cursor = connection.cursor()\n",
    "    try:\n",
    "        cursor.execute(query)\n",
    "        connection.commit()\n",
    "        print(\"Query was successfully executed\")\n",
    "    except Error as err:\n",
    "        print(f\"Error: '{err}'\")"
   ]
  },
  {
   "cell_type": "code",
   "execution_count": 18,
   "id": "9671185d",
   "metadata": {},
   "outputs": [
    {
     "name": "stdout",
     "output_type": "stream",
     "text": [
      "MySQL database connection successfull\n",
      "Query was successfully executed\n"
     ]
    }
   ],
   "source": [
    "create_orders_table = \"\"\"\n",
    "create table orders(\n",
    "order_id int primary key,\n",
    "customer_name varchar(30) not null,\n",
    "product_name varchar(20) not null,\n",
    "date_ordered date,\n",
    "quantity int,\n",
    "unit_price float,\n",
    "phone_number varchar(20));\n",
    "\"\"\"\n",
    "\n",
    "#connect to the database\n",
    "connection = create_db_conn(\"localhost\", \"root\", pw, db)\n",
    "execute_query(connection, create_orders_table)"
   ]
  },
  {
   "cell_type": "code",
   "execution_count": 22,
   "id": "e96e6fa8",
   "metadata": {},
   "outputs": [
    {
     "name": "stdout",
     "output_type": "stream",
     "text": [
      "MySQL database connection successfull\n",
      "Query was successfully executed\n"
     ]
    }
   ],
   "source": [
    "#Insert data\n",
    "\n",
    "data_orders = \"\"\"\n",
    "insert into orders values\n",
    "(101, 'Steve', 'Laptop', '2018-02-02', 2, 800, '123456789'),\n",
    "(102, 'Nancy', 'Books', '2019-03-21', 3, 700, '1256767789'),\n",
    "(103, 'Joe', 'Pendrives', '2020-04-12', 10, 600, '12000789'),\n",
    "(104, 'Danny', 'T-shirts', '2011-06-14', 12, 500, '123458979'),\n",
    "(105, 'Maria', 'TV', '2021-07-02', 5, 400, '123400089')\n",
    "\"\"\"\n",
    "\n",
    "connection = create_db_conn(\"localhost\", \"root\", pw, db)\n",
    "execute_query(connection, data_orders)"
   ]
  },
  {
   "cell_type": "code",
   "execution_count": 23,
   "id": "70a1490f",
   "metadata": {},
   "outputs": [],
   "source": [
    "def read_query(connection, query):\n",
    "    cursor = connection.cursor()\n",
    "    result = None\n",
    "    try:\n",
    "        cursor.execute(query)\n",
    "        result = cursor.fetchall()\n",
    "        return result\n",
    "    except Error as err:\n",
    "        print(f\"Error: '{err}'\")"
   ]
  },
  {
   "cell_type": "code",
   "execution_count": 24,
   "id": "8ddb4ed2",
   "metadata": {},
   "outputs": [
    {
     "name": "stdout",
     "output_type": "stream",
     "text": [
      "MySQL database connection successfull\n",
      "(101, 'Steve', 'Laptop', datetime.date(2018, 2, 2), 2, 800.0, '123456789')\n",
      "(102, 'Nancy', 'Books', datetime.date(2019, 3, 21), 3, 700.0, '1256767789')\n",
      "(103, 'Joe', 'Pendrives', datetime.date(2020, 4, 12), 10, 600.0, '12000789')\n",
      "(104, 'Danny', 'T-shirts', datetime.date(2011, 6, 14), 12, 500.0, '123458979')\n",
      "(105, 'Maria', 'TV', datetime.date(2021, 7, 2), 5, 400.0, '123400089')\n"
     ]
    }
   ],
   "source": [
    "#Using the SELECT statement\n",
    "q1 = \"\"\"\n",
    "select * from orders\n",
    "\"\"\"\n",
    "\n",
    "connection = create_db_conn(\"localhost\", \"root\", pw, db)\n",
    "results = read_query(connection, q1)\n",
    "for result in results:\n",
    "    print(result)"
   ]
  },
  {
   "cell_type": "code",
   "execution_count": 25,
   "id": "eacb3eb0",
   "metadata": {},
   "outputs": [
    {
     "name": "stdout",
     "output_type": "stream",
     "text": [
      "MySQL database connection successfull\n",
      "('Steve', '123456789')\n",
      "('Nancy', '1256767789')\n",
      "('Joe', '12000789')\n",
      "('Danny', '123458979')\n",
      "('Maria', '123400089')\n"
     ]
    }
   ],
   "source": [
    "#Using the SELECT statement\n",
    "q2 = \"\"\"\n",
    "select customer_name, phone_number from orders\n",
    "\"\"\"\n",
    "\n",
    "connection = create_db_conn(\"localhost\", \"root\", pw, db)\n",
    "results = read_query(connection, q2)\n",
    "for result in results:\n",
    "    print(result)"
   ]
  },
  {
   "cell_type": "code",
   "execution_count": 27,
   "id": "c63ba448",
   "metadata": {},
   "outputs": [
    {
     "name": "stdout",
     "output_type": "stream",
     "text": [
      "MySQL database connection successfull\n",
      "(2018,)\n",
      "(2019,)\n",
      "(2020,)\n",
      "(2011,)\n",
      "(2021,)\n"
     ]
    }
   ],
   "source": [
    "#Using the inbuilt-function statement\n",
    "q3 = \"\"\"\n",
    "select distinct year(date_ordered) from orders\n",
    "\"\"\"\n",
    "\n",
    "connection = create_db_conn(\"localhost\", \"root\", pw, db)\n",
    "results = read_query(connection, q3)\n",
    "for result in results:\n",
    "    print(result)"
   ]
  },
  {
   "cell_type": "code",
   "execution_count": 28,
   "id": "f3cb8ec7",
   "metadata": {},
   "outputs": [
    {
     "name": "stdout",
     "output_type": "stream",
     "text": [
      "MySQL database connection successfull\n",
      "(101, 'Steve', 'Laptop', datetime.date(2018, 2, 2), 2, 800.0, '123456789')\n",
      "(102, 'Nancy', 'Books', datetime.date(2019, 3, 21), 3, 700.0, '1256767789')\n",
      "(104, 'Danny', 'T-shirts', datetime.date(2011, 6, 14), 12, 500.0, '123458979')\n"
     ]
    }
   ],
   "source": [
    "#Using the WHERE CLAUSE\n",
    "q4 = \"\"\"\n",
    "select * from orders\n",
    " where date_ordered < '2019-12-31'\n",
    "\"\"\"\n",
    "\n",
    "connection = create_db_conn(\"localhost\", \"root\", pw, db)\n",
    "results = read_query(connection, q4)\n",
    "for result in results:\n",
    "    print(result)"
   ]
  },
  {
   "cell_type": "code",
   "execution_count": 30,
   "id": "ba7dc2e7",
   "metadata": {},
   "outputs": [
    {
     "name": "stdout",
     "output_type": "stream",
     "text": [
      "MySQL database connection successfull\n",
      "(101, 'Steve', 'Laptop', datetime.date(2018, 2, 2), 2, 800.0, '123456789')\n",
      "(102, 'Nancy', 'Books', datetime.date(2019, 3, 21), 3, 700.0, '1256767789')\n",
      "(103, 'Joe', 'Pendrives', datetime.date(2020, 4, 12), 10, 600.0, '12000789')\n",
      "(104, 'Danny', 'T-shirts', datetime.date(2011, 6, 14), 12, 500.0, '123458979')\n",
      "(105, 'Maria', 'TV', datetime.date(2021, 7, 2), 5, 400.0, '123400089')\n"
     ]
    }
   ],
   "source": [
    "#Using the SELECT statement\n",
    "q5 = \"\"\"\n",
    "select * from orders order by unit_price desc;\n",
    "\"\"\"\n",
    "\n",
    "connection = create_db_conn(\"localhost\", \"root\", pw, db)\n",
    "results = read_query(connection, q5)\n",
    "for result in results:\n",
    "    print(result)"
   ]
  },
  {
   "cell_type": "code",
   "execution_count": 34,
   "id": "87346917",
   "metadata": {},
   "outputs": [
    {
     "data": {
      "text/html": [
       "<div>\n",
       "<style scoped>\n",
       "    .dataframe tbody tr th:only-of-type {\n",
       "        vertical-align: middle;\n",
       "    }\n",
       "\n",
       "    .dataframe tbody tr th {\n",
       "        vertical-align: top;\n",
       "    }\n",
       "\n",
       "    .dataframe thead th {\n",
       "        text-align: right;\n",
       "    }\n",
       "</style>\n",
       "<table border=\"1\" class=\"dataframe\">\n",
       "  <thead>\n",
       "    <tr style=\"text-align: right;\">\n",
       "      <th></th>\n",
       "      <th>order_id</th>\n",
       "      <th>customer_name</th>\n",
       "      <th>product_name</th>\n",
       "      <th>date_ordered</th>\n",
       "      <th>quantity</th>\n",
       "      <th>unit_price</th>\n",
       "      <th>Phone_number</th>\n",
       "    </tr>\n",
       "  </thead>\n",
       "  <tbody>\n",
       "    <tr>\n",
       "      <th>0</th>\n",
       "      <td>101</td>\n",
       "      <td>Steve</td>\n",
       "      <td>Laptop</td>\n",
       "      <td>2018-02-02</td>\n",
       "      <td>2</td>\n",
       "      <td>800.0</td>\n",
       "      <td>123456789</td>\n",
       "    </tr>\n",
       "    <tr>\n",
       "      <th>1</th>\n",
       "      <td>102</td>\n",
       "      <td>Nancy</td>\n",
       "      <td>Books</td>\n",
       "      <td>2019-03-21</td>\n",
       "      <td>3</td>\n",
       "      <td>700.0</td>\n",
       "      <td>1256767789</td>\n",
       "    </tr>\n",
       "    <tr>\n",
       "      <th>2</th>\n",
       "      <td>103</td>\n",
       "      <td>Joe</td>\n",
       "      <td>Pendrives</td>\n",
       "      <td>2020-04-12</td>\n",
       "      <td>10</td>\n",
       "      <td>600.0</td>\n",
       "      <td>12000789</td>\n",
       "    </tr>\n",
       "    <tr>\n",
       "      <th>3</th>\n",
       "      <td>104</td>\n",
       "      <td>Danny</td>\n",
       "      <td>T-shirts</td>\n",
       "      <td>2011-06-14</td>\n",
       "      <td>12</td>\n",
       "      <td>500.0</td>\n",
       "      <td>123458979</td>\n",
       "    </tr>\n",
       "    <tr>\n",
       "      <th>4</th>\n",
       "      <td>105</td>\n",
       "      <td>Maria</td>\n",
       "      <td>TV</td>\n",
       "      <td>2021-07-02</td>\n",
       "      <td>5</td>\n",
       "      <td>400.0</td>\n",
       "      <td>123400089</td>\n",
       "    </tr>\n",
       "  </tbody>\n",
       "</table>\n",
       "</div>"
      ],
      "text/plain": [
       "   order_id customer_name product_name date_ordered  quantity  unit_price  \\\n",
       "0       101         Steve       Laptop   2018-02-02         2       800.0   \n",
       "1       102         Nancy        Books   2019-03-21         3       700.0   \n",
       "2       103           Joe    Pendrives   2020-04-12        10       600.0   \n",
       "3       104         Danny     T-shirts   2011-06-14        12       500.0   \n",
       "4       105         Maria           TV   2021-07-02         5       400.0   \n",
       "\n",
       "  Phone_number  \n",
       "0    123456789  \n",
       "1   1256767789  \n",
       "2     12000789  \n",
       "3    123458979  \n",
       "4    123400089  "
      ]
     },
     "metadata": {},
     "output_type": "display_data"
    }
   ],
   "source": [
    "#create a dataframe from the given table\n",
    "\n",
    "from_db = []\n",
    "for result in results:\n",
    "    result = list(result)\n",
    "    from_db.append(result)\n",
    "colums = [\"order_id\", \"customer_name\", \"product_name\", \"date_ordered\", \"quantity\", \"unit_price\", \"Phone_number\"]\n",
    "df = pd.DataFrame(from_db, columns= colums)\n",
    "\n",
    "display(df)"
   ]
  },
  {
   "cell_type": "code",
   "execution_count": 33,
   "id": "8a79d020",
   "metadata": {},
   "outputs": [
    {
     "name": "stdout",
     "output_type": "stream",
     "text": [
      "MySQL database connection successfull\n",
      "Query was successfully executed\n"
     ]
    }
   ],
   "source": [
    "#Update command\n",
    "\n",
    "update = \"\"\"\n",
    "update orders set unit_price =  45\n",
    "where order_id = 103\n",
    "\"\"\"\n",
    "connection = create_db_conn(\"localhost\", \"root\", pw, db)\n",
    "execute_query(connection, update)"
   ]
  },
  {
   "cell_type": "code",
   "execution_count": 35,
   "id": "1365c9ef",
   "metadata": {},
   "outputs": [
    {
     "name": "stdout",
     "output_type": "stream",
     "text": [
      "MySQL database connection successfull\n",
      "(103, 'Joe', 'Pendrives', datetime.date(2020, 4, 12), 10, 45.0, '12000789')\n"
     ]
    }
   ],
   "source": [
    "q6 = \"\"\"\n",
    "select * from orders where order_id = 103;\n",
    "\"\"\"\n",
    "\n",
    "connection = create_db_conn(\"localhost\", \"root\", pw, db)\n",
    "results = read_query(connection, q6)\n",
    "for result in results:\n",
    "    print(result)"
   ]
  },
  {
   "cell_type": "code",
   "execution_count": 36,
   "id": "fd977791",
   "metadata": {},
   "outputs": [
    {
     "name": "stdout",
     "output_type": "stream",
     "text": [
      "MySQL database connection successfull\n",
      "Query was successfully executed\n"
     ]
    }
   ],
   "source": [
    "#delete record\n",
    "\n",
    "delete_order = \"\"\"\n",
    "delete from orders\n",
    "where order_id = 105;\n",
    "\"\"\"\n",
    "connection = create_db_conn(\"localhost\", \"root\", pw, db)\n",
    "execute_query(connection, delete_order)"
   ]
  },
  {
   "cell_type": "code",
   "execution_count": 37,
   "id": "04fa92a7",
   "metadata": {},
   "outputs": [
    {
     "name": "stdout",
     "output_type": "stream",
     "text": [
      "MySQL database connection successfull\n",
      "(101, 'Steve', 'Laptop', datetime.date(2018, 2, 2), 2, 800.0, '123456789')\n",
      "(102, 'Nancy', 'Books', datetime.date(2019, 3, 21), 3, 700.0, '1256767789')\n",
      "(103, 'Joe', 'Pendrives', datetime.date(2020, 4, 12), 10, 45.0, '12000789')\n",
      "(104, 'Danny', 'T-shirts', datetime.date(2011, 6, 14), 12, 500.0, '123458979')\n"
     ]
    }
   ],
   "source": [
    "#Using the SELECT statement\n",
    "q9 = \"\"\"\n",
    "select * from orders\n",
    "\"\"\"\n",
    "\n",
    "connection = create_db_conn(\"localhost\", \"root\", pw, db)\n",
    "results = read_query(connection, q9)\n",
    "for result in results:\n",
    "    print(result)"
   ]
  }
 ],
 "metadata": {
  "kernelspec": {
   "display_name": "Python 3 (ipykernel)",
   "language": "python",
   "name": "python3"
  },
  "language_info": {
   "codemirror_mode": {
    "name": "ipython",
    "version": 3
   },
   "file_extension": ".py",
   "mimetype": "text/x-python",
   "name": "python",
   "nbconvert_exporter": "python",
   "pygments_lexer": "ipython3",
   "version": "3.11.1"
  }
 },
 "nbformat": 4,
 "nbformat_minor": 5
}
